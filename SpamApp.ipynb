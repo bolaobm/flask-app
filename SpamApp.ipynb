{
 "cells": [
  {
   "cell_type": "code",
   "execution_count": null,
   "metadata": {},
   "outputs": [
    {
     "name": "stdout",
     "output_type": "stream",
     "text": [
      " * Serving Flask app \"__main__\" (lazy loading)\n",
      " * Environment: production\n",
      "   WARNING: This is a development server. Do not use it in a production deployment.\n",
      "   Use a production WSGI server instead.\n",
      " * Debug mode: off\n"
     ]
    },
    {
     "name": "stderr",
     "output_type": "stream",
     "text": [
      " * Running on http://127.0.0.1:5000/ (Press CTRL+C to quit)\n"
     ]
    }
   ],
   "source": [
    "import pandas as pd\n",
    "from flask import Flask, url_for, render_template, request\n",
    "import pickle\n",
    "from sklearn.externals import joblib\n",
    "\n",
    "\n",
    "# the model is loaded\n",
    "spam_model = open('spam_model.pkl','rb')\n",
    "clf = joblib.load(spam_model)\n",
    "\n",
    "# app\n",
    "SpamApp1 = Flask(__name__)\n",
    "\n",
    "@SpamApp1.route('/') #Routes the app to below task when the URL is called \n",
    "def home(): \n",
    "\n",
    "    return render_template('home.html')\n",
    "@SpamApp1.route('/predict',methods=['POST'])\n",
    "def predict_fn(): \n",
    "\n",
    "    spam_model = open('spam_model.pkl','rb') \n",
    "    clf = joblib.load(spam_model)\n",
    "\t\n",
    "    cvect_model = open('cvect.pkl', 'rb')\n",
    "    cvect = joblib.load(cvect_model)\t\n",
    "\t\n",
    "    if request.method == 'POST': \n",
    "\n",
    "        message = request.form['MESSAGE'] \n",
    "        data = [message] \n",
    "        vect = cvect.transform(data).toarray()\n",
    "        my_prediction = clf.predict(vect) \n",
    "\n",
    "    return render_template('result.html',prediction = my_prediction)   \n",
    "\n",
    "#Calling the main function and running the flask app \n",
    "\n",
    "if __name__ == '__main__':\n",
    "    SpamApp1.run(debug=False)\n",
    "\n"
   ]
  },
  {
   "cell_type": "code",
   "execution_count": null,
   "metadata": {},
   "outputs": [],
   "source": []
  },
  {
   "cell_type": "code",
   "execution_count": null,
   "metadata": {},
   "outputs": [],
   "source": []
  }
 ],
 "metadata": {
  "kernelspec": {
   "display_name": "Python 3",
   "language": "python",
   "name": "python3"
  },
  "language_info": {
   "codemirror_mode": {
    "name": "ipython",
    "version": 3
   },
   "file_extension": ".py",
   "mimetype": "text/x-python",
   "name": "python",
   "nbconvert_exporter": "python",
   "pygments_lexer": "ipython3",
   "version": "3.7.4"
  }
 },
 "nbformat": 4,
 "nbformat_minor": 2
}
